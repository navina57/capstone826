{
 "cells": [
  {
   "cell_type": "markdown",
   "id": "b89b5895-419d-461c-a07d-2f0202e2ed37",
   "metadata": {},
   "source": [
    "# ChatGPT User Reviews: Data Pre-processing\n",
    "\n",
    "**Problem Statement**: To enhance the customer experience for (online) products, this project will analyze user reviews on ChatGPT from the iOS store. By leveraging NLP techniques, I aim to classify overall sentiment, extract product-related feedback and identify trends in user satisfaction. Insights from this analysis will inform actionable recommendations to improve a product’s usability, functionality and overall satisfaction.\n",
    "\n",
    "**Background:** So why is looking at user feedback and keeping user-centric thinking important? Sentiment analysis helps companies identify the tone and emotion behind reviews. This can ultimately help provide insights into customer satisfaction and dissatisfaction. This understanding can be invaluable for companies, especially early stage companies because it highlights areas that need improvement. By analyzing feedback, companies are able to pinpoint product features that are performing well or poorly and allocate tasks accordingly. For startups especially, resources are spread out extremely thin, so it is important that a company is able to move efficiently and prioritize improvements or innovations based on user needs. It is also incredibly important for a company to establish its brand as being user-centric and foster customer loyalty. By heeding to customer complaints, a company can show that they care about their user and want to implement solutions that improve the user experience. Manually analyzing thousands of reviews is impractical and inefficient. Sentiment analysis automates the process and allows a company to extract actionable insights from a large dataset. \r\n",
    "\n",
    "**Sources:**\n",
    "> Note: All function docstrings are written with the help of ChatGPT"
   ]
  },
  {
   "cell_type": "markdown",
   "id": "401237c4-b35f-4dcc-b451-ba267c940721",
   "metadata": {},
   "source": [
    "### Imports"
   ]
  },
  {
   "cell_type": "code",
   "execution_count": 1,
   "id": "4031558e-154f-477d-9ad3-8453fdc5c1f0",
   "metadata": {},
   "outputs": [],
   "source": [
    "import pandas as pd\n",
    "import numpy as np \n",
    "import seaborn as sns \n",
    "import matplotlib.pyplot as plt \n",
    "import re\n",
    "import nltk\n",
    "from nltk.corpus import stopwords\n",
    "from nltk.tokenize import word_tokenize"
   ]
  },
  {
   "cell_type": "markdown",
   "id": "dd25b259-db18-4786-8b05-ae0cb96a2ebf",
   "metadata": {},
   "source": [
    "### Read in Data "
   ]
  },
  {
   "cell_type": "code",
   "execution_count": 2,
   "id": "95e5da1e-d78a-429e-a9db-32c96a60e8d1",
   "metadata": {},
   "outputs": [],
   "source": [
    "file_path = '../data/chatgpt_reviews.csv'\n",
    "df = pd.read_csv(file_path)"
   ]
  },
  {
   "cell_type": "code",
   "execution_count": 3,
   "id": "ae921720-2259-4a8c-a4f8-92d483c89f54",
   "metadata": {},
   "outputs": [
    {
     "data": {
      "text/html": [
       "<div>\n",
       "<style scoped>\n",
       "    .dataframe tbody tr th:only-of-type {\n",
       "        vertical-align: middle;\n",
       "    }\n",
       "\n",
       "    .dataframe tbody tr th {\n",
       "        vertical-align: top;\n",
       "    }\n",
       "\n",
       "    .dataframe thead th {\n",
       "        text-align: right;\n",
       "    }\n",
       "</style>\n",
       "<table border=\"1\" class=\"dataframe\">\n",
       "  <thead>\n",
       "    <tr style=\"text-align: right;\">\n",
       "      <th></th>\n",
       "      <th>date</th>\n",
       "      <th>title</th>\n",
       "      <th>review</th>\n",
       "      <th>rating</th>\n",
       "    </tr>\n",
       "  </thead>\n",
       "  <tbody>\n",
       "    <tr>\n",
       "      <th>0</th>\n",
       "      <td>2023-05-21 16:42:24</td>\n",
       "      <td>Much more accessible for blind users than the ...</td>\n",
       "      <td>Up to this point I’ve mostly been using ChatGP...</td>\n",
       "      <td>4</td>\n",
       "    </tr>\n",
       "    <tr>\n",
       "      <th>1</th>\n",
       "      <td>2023-07-11 12:24:19</td>\n",
       "      <td>Much anticipated, wasn’t let down.</td>\n",
       "      <td>I’ve been a user since it’s initial roll out a...</td>\n",
       "      <td>4</td>\n",
       "    </tr>\n",
       "    <tr>\n",
       "      <th>2</th>\n",
       "      <td>2023-05-19 10:16:22</td>\n",
       "      <td>Almost 5 stars, but… no search function</td>\n",
       "      <td>This app would almost be perfect if it wasn’t ...</td>\n",
       "      <td>4</td>\n",
       "    </tr>\n",
       "    <tr>\n",
       "      <th>3</th>\n",
       "      <td>2023-05-27 21:57:27</td>\n",
       "      <td>4.5 stars, here’s why</td>\n",
       "      <td>I recently downloaded the app and overall, it'...</td>\n",
       "      <td>4</td>\n",
       "    </tr>\n",
       "    <tr>\n",
       "      <th>4</th>\n",
       "      <td>2023-06-09 07:49:36</td>\n",
       "      <td>Good, but Siri support would take it to the ne...</td>\n",
       "      <td>I appreciate the devs implementing Siri suppor...</td>\n",
       "      <td>4</td>\n",
       "    </tr>\n",
       "  </tbody>\n",
       "</table>\n",
       "</div>"
      ],
      "text/plain": [
       "                  date                                              title  \\\n",
       "0  2023-05-21 16:42:24  Much more accessible for blind users than the ...   \n",
       "1  2023-07-11 12:24:19                 Much anticipated, wasn’t let down.   \n",
       "2  2023-05-19 10:16:22            Almost 5 stars, but… no search function   \n",
       "3  2023-05-27 21:57:27                              4.5 stars, here’s why   \n",
       "4  2023-06-09 07:49:36  Good, but Siri support would take it to the ne...   \n",
       "\n",
       "                                              review  rating  \n",
       "0  Up to this point I’ve mostly been using ChatGP...       4  \n",
       "1  I’ve been a user since it’s initial roll out a...       4  \n",
       "2  This app would almost be perfect if it wasn’t ...       4  \n",
       "3  I recently downloaded the app and overall, it'...       4  \n",
       "4  I appreciate the devs implementing Siri suppor...       4  "
      ]
     },
     "execution_count": 3,
     "metadata": {},
     "output_type": "execute_result"
    }
   ],
   "source": [
    "df.head()"
   ]
  },
  {
   "cell_type": "code",
   "execution_count": 4,
   "id": "9f6df672-73dd-4436-9fda-3b8f40c295d4",
   "metadata": {},
   "outputs": [
    {
     "name": "stdout",
     "output_type": "stream",
     "text": [
      "<class 'pandas.core.frame.DataFrame'>\n",
      "RangeIndex: 2292 entries, 0 to 2291\n",
      "Data columns (total 4 columns):\n",
      " #   Column  Non-Null Count  Dtype \n",
      "---  ------  --------------  ----- \n",
      " 0   date    2292 non-null   object\n",
      " 1   title   2292 non-null   object\n",
      " 2   review  2292 non-null   object\n",
      " 3   rating  2292 non-null   int64 \n",
      "dtypes: int64(1), object(3)\n",
      "memory usage: 71.8+ KB\n"
     ]
    }
   ],
   "source": [
    "df.info()"
   ]
  },
  {
   "cell_type": "markdown",
   "id": "149df895-c9d2-40ca-bb70-ef9eb5f64092",
   "metadata": {},
   "source": [
    "#### Check for missing values "
   ]
  },
  {
   "cell_type": "code",
   "execution_count": 5,
   "id": "219305ed-dfad-4aac-a5d3-8d854f31cc17",
   "metadata": {},
   "outputs": [
    {
     "data": {
      "text/plain": [
       "date      0\n",
       "title     0\n",
       "review    0\n",
       "rating    0\n",
       "dtype: int64"
      ]
     },
     "execution_count": 5,
     "metadata": {},
     "output_type": "execute_result"
    }
   ],
   "source": [
    "df.isnull().sum()"
   ]
  },
  {
   "cell_type": "markdown",
   "id": "40afafed-7717-49f3-9bb2-52f8ec495408",
   "metadata": {},
   "source": [
    "### Preprocess the user reviews"
   ]
  },
  {
   "cell_type": "code",
   "execution_count": 6,
   "id": "5d76fe66-8b74-4c58-bbff-52379ed56fd7",
   "metadata": {},
   "outputs": [],
   "source": [
    "def preprocess(text):\n",
    "    \"\"\"\n",
    "    Preprocesses the input text by:\n",
    "    1. Removing punctuation.\n",
    "    2. Converting all characters to lowercase.\n",
    "    3. Tokenizing the text into words.\n",
    "    4. Removing stopwords.\n",
    "\n",
    "    Parameters:\n",
    "    -----------\n",
    "    text : str\n",
    "        The input text to preprocess.\n",
    "\n",
    "    Returns:\n",
    "    --------\n",
    "    str\n",
    "        The preprocessed text as a string with tokens joined by spaces.\n",
    "    \"\"\"\n",
    "    # Use regex to remove any special characters ot punctuation\n",
    "    text = re.sub(r'[^\\w\\s]', '', text) \n",
    "    # Lower case all the text \n",
    "    text = text.lower() \n",
    "    # Toenize the text \n",
    "    tokens = word_tokenize(text)  \n",
    "    # Remove all english stopwords\n",
    "    tokens = [word for word in tokens if word not in stopwords.words('english')]  \n",
    "    return \" \".join(tokens)"
   ]
  },
  {
   "cell_type": "code",
   "execution_count": 7,
   "id": "616d2e7a-e61d-45f3-9882-3cda88bba9dd",
   "metadata": {},
   "outputs": [],
   "source": [
    "df['text'] = df['title'] + ' ' + df['review']"
   ]
  },
  {
   "cell_type": "code",
   "execution_count": 8,
   "id": "ec6d5098-950f-435c-87e7-bdd03711f2d0",
   "metadata": {},
   "outputs": [],
   "source": [
    "df['processed_text'] = df['text'].apply(preprocess)"
   ]
  },
  {
   "cell_type": "code",
   "execution_count": 9,
   "id": "0e5b9034-0539-4e04-a145-90f519296c54",
   "metadata": {},
   "outputs": [
    {
     "data": {
      "text/html": [
       "<div>\n",
       "<style scoped>\n",
       "    .dataframe tbody tr th:only-of-type {\n",
       "        vertical-align: middle;\n",
       "    }\n",
       "\n",
       "    .dataframe tbody tr th {\n",
       "        vertical-align: top;\n",
       "    }\n",
       "\n",
       "    .dataframe thead th {\n",
       "        text-align: right;\n",
       "    }\n",
       "</style>\n",
       "<table border=\"1\" class=\"dataframe\">\n",
       "  <thead>\n",
       "    <tr style=\"text-align: right;\">\n",
       "      <th></th>\n",
       "      <th>text</th>\n",
       "      <th>processed_text</th>\n",
       "    </tr>\n",
       "  </thead>\n",
       "  <tbody>\n",
       "    <tr>\n",
       "      <th>0</th>\n",
       "      <td>Much more accessible for blind users than the ...</td>\n",
       "      <td>much accessible blind users web version point ...</td>\n",
       "    </tr>\n",
       "    <tr>\n",
       "      <th>1</th>\n",
       "      <td>Much anticipated, wasn’t let down. I’ve been a...</td>\n",
       "      <td>much anticipated wasnt let ive user since init...</td>\n",
       "    </tr>\n",
       "    <tr>\n",
       "      <th>2</th>\n",
       "      <td>Almost 5 stars, but… no search function This a...</td>\n",
       "      <td>almost 5 stars search function app would almos...</td>\n",
       "    </tr>\n",
       "    <tr>\n",
       "      <th>3</th>\n",
       "      <td>4.5 stars, here’s why I recently downloaded th...</td>\n",
       "      <td>45 stars heres recently downloaded app overall...</td>\n",
       "    </tr>\n",
       "    <tr>\n",
       "      <th>4</th>\n",
       "      <td>Good, but Siri support would take it to the ne...</td>\n",
       "      <td>good siri support would take next level apprec...</td>\n",
       "    </tr>\n",
       "  </tbody>\n",
       "</table>\n",
       "</div>"
      ],
      "text/plain": [
       "                                                text  \\\n",
       "0  Much more accessible for blind users than the ...   \n",
       "1  Much anticipated, wasn’t let down. I’ve been a...   \n",
       "2  Almost 5 stars, but… no search function This a...   \n",
       "3  4.5 stars, here’s why I recently downloaded th...   \n",
       "4  Good, but Siri support would take it to the ne...   \n",
       "\n",
       "                                      processed_text  \n",
       "0  much accessible blind users web version point ...  \n",
       "1  much anticipated wasnt let ive user since init...  \n",
       "2  almost 5 stars search function app would almos...  \n",
       "3  45 stars heres recently downloaded app overall...  \n",
       "4  good siri support would take next level apprec...  "
      ]
     },
     "execution_count": 9,
     "metadata": {},
     "output_type": "execute_result"
    }
   ],
   "source": [
    "# Check to make sure that the text has been cleaned \n",
    "df[['text', 'processed_text']].head()"
   ]
  },
  {
   "cell_type": "code",
   "execution_count": 10,
   "id": "c93439be-b0fe-4d56-af03-98d81ceefac7",
   "metadata": {},
   "outputs": [
    {
     "data": {
      "text/html": [
       "<div>\n",
       "<style scoped>\n",
       "    .dataframe tbody tr th:only-of-type {\n",
       "        vertical-align: middle;\n",
       "    }\n",
       "\n",
       "    .dataframe tbody tr th {\n",
       "        vertical-align: top;\n",
       "    }\n",
       "\n",
       "    .dataframe thead th {\n",
       "        text-align: right;\n",
       "    }\n",
       "</style>\n",
       "<table border=\"1\" class=\"dataframe\">\n",
       "  <thead>\n",
       "    <tr style=\"text-align: right;\">\n",
       "      <th></th>\n",
       "      <th>date</th>\n",
       "      <th>title</th>\n",
       "      <th>review</th>\n",
       "      <th>rating</th>\n",
       "      <th>text</th>\n",
       "      <th>processed_text</th>\n",
       "    </tr>\n",
       "  </thead>\n",
       "  <tbody>\n",
       "    <tr>\n",
       "      <th>0</th>\n",
       "      <td>2023-05-21 16:42:24</td>\n",
       "      <td>Much more accessible for blind users than the ...</td>\n",
       "      <td>Up to this point I’ve mostly been using ChatGP...</td>\n",
       "      <td>4</td>\n",
       "      <td>Much more accessible for blind users than the ...</td>\n",
       "      <td>much accessible blind users web version point ...</td>\n",
       "    </tr>\n",
       "    <tr>\n",
       "      <th>1</th>\n",
       "      <td>2023-07-11 12:24:19</td>\n",
       "      <td>Much anticipated, wasn’t let down.</td>\n",
       "      <td>I’ve been a user since it’s initial roll out a...</td>\n",
       "      <td>4</td>\n",
       "      <td>Much anticipated, wasn’t let down. I’ve been a...</td>\n",
       "      <td>much anticipated wasnt let ive user since init...</td>\n",
       "    </tr>\n",
       "    <tr>\n",
       "      <th>2</th>\n",
       "      <td>2023-05-19 10:16:22</td>\n",
       "      <td>Almost 5 stars, but… no search function</td>\n",
       "      <td>This app would almost be perfect if it wasn’t ...</td>\n",
       "      <td>4</td>\n",
       "      <td>Almost 5 stars, but… no search function This a...</td>\n",
       "      <td>almost 5 stars search function app would almos...</td>\n",
       "    </tr>\n",
       "    <tr>\n",
       "      <th>3</th>\n",
       "      <td>2023-05-27 21:57:27</td>\n",
       "      <td>4.5 stars, here’s why</td>\n",
       "      <td>I recently downloaded the app and overall, it'...</td>\n",
       "      <td>4</td>\n",
       "      <td>4.5 stars, here’s why I recently downloaded th...</td>\n",
       "      <td>45 stars heres recently downloaded app overall...</td>\n",
       "    </tr>\n",
       "    <tr>\n",
       "      <th>4</th>\n",
       "      <td>2023-06-09 07:49:36</td>\n",
       "      <td>Good, but Siri support would take it to the ne...</td>\n",
       "      <td>I appreciate the devs implementing Siri suppor...</td>\n",
       "      <td>4</td>\n",
       "      <td>Good, but Siri support would take it to the ne...</td>\n",
       "      <td>good siri support would take next level apprec...</td>\n",
       "    </tr>\n",
       "  </tbody>\n",
       "</table>\n",
       "</div>"
      ],
      "text/plain": [
       "                  date                                              title  \\\n",
       "0  2023-05-21 16:42:24  Much more accessible for blind users than the ...   \n",
       "1  2023-07-11 12:24:19                 Much anticipated, wasn’t let down.   \n",
       "2  2023-05-19 10:16:22            Almost 5 stars, but… no search function   \n",
       "3  2023-05-27 21:57:27                              4.5 stars, here’s why   \n",
       "4  2023-06-09 07:49:36  Good, but Siri support would take it to the ne...   \n",
       "\n",
       "                                              review  rating  \\\n",
       "0  Up to this point I’ve mostly been using ChatGP...       4   \n",
       "1  I’ve been a user since it’s initial roll out a...       4   \n",
       "2  This app would almost be perfect if it wasn’t ...       4   \n",
       "3  I recently downloaded the app and overall, it'...       4   \n",
       "4  I appreciate the devs implementing Siri suppor...       4   \n",
       "\n",
       "                                                text  \\\n",
       "0  Much more accessible for blind users than the ...   \n",
       "1  Much anticipated, wasn’t let down. I’ve been a...   \n",
       "2  Almost 5 stars, but… no search function This a...   \n",
       "3  4.5 stars, here’s why I recently downloaded th...   \n",
       "4  Good, but Siri support would take it to the ne...   \n",
       "\n",
       "                                      processed_text  \n",
       "0  much accessible blind users web version point ...  \n",
       "1  much anticipated wasnt let ive user since init...  \n",
       "2  almost 5 stars search function app would almos...  \n",
       "3  45 stars heres recently downloaded app overall...  \n",
       "4  good siri support would take next level apprec...  "
      ]
     },
     "execution_count": 10,
     "metadata": {},
     "output_type": "execute_result"
    }
   ],
   "source": [
    "df.head()"
   ]
  },
  {
   "cell_type": "markdown",
   "id": "c396ef0e-a24f-4837-be16-d4e596c9b9d6",
   "metadata": {},
   "source": [
    "### Save the cleaned reviews as a new .csv file"
   ]
  },
  {
   "cell_type": "code",
   "execution_count": 11,
   "id": "1f6fd24b-5313-4761-8e11-0b0174e082f5",
   "metadata": {},
   "outputs": [],
   "source": [
    "df.to_csv('../data/chatgpt_cleaned.csv', index=False)"
   ]
  }
 ],
 "metadata": {
  "kernelspec": {
   "display_name": "Python 3 (ipykernel)",
   "language": "python",
   "name": "python3"
  },
  "language_info": {
   "codemirror_mode": {
    "name": "ipython",
    "version": 3
   },
   "file_extension": ".py",
   "mimetype": "text/x-python",
   "name": "python",
   "nbconvert_exporter": "python",
   "pygments_lexer": "ipython3",
   "version": "3.11.9"
  }
 },
 "nbformat": 4,
 "nbformat_minor": 5
}
